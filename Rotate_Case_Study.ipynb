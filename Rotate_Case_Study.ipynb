{
 "cells": [
  {
   "cell_type": "code",
   "execution_count": 77,
   "metadata": {},
   "outputs": [],
   "source": [
    "import json\n",
    "import pandas as pd\n",
    "#import numpy as np\n",
    "import seaborn as sns\n",
    "import matplotlib.pyplot as plt\n",
    "from sklearn.model_selection import train_test_split"
   ]
  },
  {
   "cell_type": "markdown",
   "metadata": {},
   "source": [
    "## Question 1: Choose a method of accessing the data in the data zip file"
   ]
  },
  {
   "cell_type": "markdown",
   "metadata": {},
   "source": [
    "### 1.1. Accessing airplane_details.json"
   ]
  },
  {
   "cell_type": "code",
   "execution_count": 78,
   "metadata": {},
   "outputs": [
    {
     "name": "stdout",
     "output_type": "stream",
     "text": [
      "[{'code_iata': '388', 'code_icao': 'A388', 'full_name': 'Airbus A380-800', 'category': 'A380', 'average_speed_mph': 550.0, 'volume': 86.74944, 'payload': 83417.6077}, {'code_iata': '351', 'code_icao': 'A35K', 'full_name': 'Airbus A350-1000', 'category': 'A350', 'average_speed_mph': 558.0, 'volume': 120.12864, 'payload': 66242.9}, {'code_iata': '788', 'code_icao': 'B788', 'full_name': 'Boeing B787-8', 'category': 'B787', 'average_speed_mph': 570.0, 'volume': 74.784, 'payload': 40610.8525}, {'code_iata': 'M82', 'code_icao': 'MD82', 'full_name': 'Boeing MD80-82', 'category': 'MD80', 'average_speed_mph': 461.0, 'volume': 9.85872, 'payload': 17989.3965}, {'code_iata': 'AR8', 'code_icao': 'RJ85', 'full_name': 'Avro RJ85', 'category': 'RJ', 'average_speed_mph': 368.0, 'volume': 3.9216, 'payload': 12136.2925}, {'code_iata': '789', 'code_icao': 'B789', 'full_name': 'Boeing B787-9', 'category': 'B787', 'average_speed_mph': 570.0, 'volume': 99.19824, 'payload': 51991.7782}, {'code_iata': '343', 'code_icao': 'A343', 'full_name': 'Airbus A340-300', 'category': 'A340', 'average_speed_mph': 541.0, 'volume': 89.48544, 'payload': 50324.83}, {'code_iata': 'IL9', 'code_icao': 'IL96', 'full_name': 'Ilyushin II-96', 'category': 'II-96', 'average_speed_mph': 422.0, 'volume': 76.7448, 'payload': 39548.0}, {'code_iata': '73H', 'code_icao': 'B738', 'full_name': 'Boeing B737-800W', 'category': 'B737', 'average_speed_mph': 592.0, 'volume': 14.03568, 'payload': 21078.0953}, {'code_iata': '320', 'code_icao': 'A320', 'full_name': 'Airbus A320-200', 'category': 'A320', 'average_speed_mph': 521.0, 'volume': 14.21808, 'payload': 19279.65}, {'code_iata': '359', 'code_icao': 'A359', 'full_name': 'Airbus A350-900', 'category': 'A350', 'average_speed_mph': 558.0, 'volume': 99.19824, 'payload': 53389.8}, {'code_iata': '733', 'code_icao': 'B733', 'full_name': 'Boeing B737-300', 'category': 'B737', 'average_speed_mph': 485.0, 'volume': 7.63344, 'payload': 15229.9348}, {'code_iata': '77W', 'code_icao': 'B77W', 'full_name': 'Boeing B777-300ER', 'category': 'B777', 'average_speed_mph': 562.0, 'volume': 121.752, 'payload': 69064.6498}, {'code_iata': '73J', 'code_icao': 'B739', 'full_name': 'Boeing B737-900ER', 'category': 'B737', 'average_speed_mph': 592.0, 'volume': 15.99648, 'payload': 22783.6028}, {'code_iata': '736', 'code_icao': 'B736', 'full_name': 'Boeing B737-600', 'category': 'B737', 'average_speed_mph': 462.0, 'volume': 5.31696, 'payload': 15382.1946}, {'code_iata': '773', 'code_icao': 'B773', 'full_name': 'Boeing B777-300', 'category': 'B777', 'average_speed_mph': 562.0, 'volume': 121.752, 'payload': 64225.952}, {'code_iata': '77E', 'code_icao': 'B772', 'full_name': 'Boeing B777-200ER', 'category': 'B777', 'average_speed_mph': 562.0, 'volume': 86.2752, 'payload': 54299.404}, {'code_iata': '290', 'code_icao': 'E290', 'full_name': 'Embraer 190 E2', 'category': 'E190-E2', 'average_speed_mph': 541.0, 'volume': 40.88496, 'payload': 13446.32}, {'code_iata': 'M11', 'code_icao': 'MD11', 'full_name': 'Boeing MD-11', 'category': 'MD-11', 'average_speed_mph': 522.0, 'volume': 490.95696, 'payload': 52037.2584}, {'code_iata': '753', 'code_icao': 'B753', 'full_name': 'Boeing B757-300', 'category': 'B757', 'average_speed_mph': 530.0, 'volume': 20.13696, 'payload': 30574.5588}, {'code_iata': '345', 'code_icao': 'A345', 'full_name': 'Airbus A340-500', 'category': 'A340', 'average_speed_mph': 541.0, 'volume': 79.0248, 'payload': 54012.681}, {'code_iata': '319', 'code_icao': 'A319', 'full_name': 'Airbus A319', 'category': 'A319', 'average_speed_mph': 514.0, 'volume': 8.10768, 'payload': 17302.25}, {'code_iata': '744', 'code_icao': 'B744', 'full_name': 'Boeing B747-400', 'category': 'B747', 'average_speed_mph': 540.0, 'volume': 89.62224, 'payload': 66556.3179}, {'code_iata': '74H', 'code_icao': 'B748', 'full_name': 'Boeing B747-8', 'category': 'B747', 'average_speed_mph': 570.0, 'volume': 101.79744, 'payload': 74311.6807}, {'code_iata': 'M80', 'code_icao': 'MD80', 'full_name': 'Boeing MD80', 'category': 'MD80', 'average_speed_mph': 504.0, 'volume': 9.76752, 'payload': 17989.3965}, {'code_iata': '731', 'code_icao': 'B731', 'full_name': 'Boeing B737-100', 'category': 'B737', 'average_speed_mph': 462.0, 'volume': 3.27408, 'payload': 14530.9239}, {'code_iata': '73W', 'code_icao': 'B737', 'full_name': 'Boeing B737-700W', 'category': 'B737', 'average_speed_mph': 592.0, 'volume': 7.82496, 'payload': 17355.6398}, {'code_iata': 'AR1', 'code_icao': 'RJ1H', 'full_name': 'Avro RJ100', 'category': 'RJ', 'average_speed_mph': 368.0, 'volume': 7.35984, 'payload': 9326.4071}, {'code_iata': '313', 'code_icao': 'A310', 'full_name': 'Airbus A310-300', 'category': 'A310', 'average_speed_mph': 461.0, 'volume': 34.0632, 'payload': 34604.5}, {'code_iata': '346', 'code_icao': 'A346', 'full_name': 'Airbus A340-600', 'category': 'A340', 'average_speed_mph': 541.0, 'volume': 113.9544, 'payload': 64858.72}, {'code_iata': '318', 'code_icao': 'A318', 'full_name': 'Airbus A318', 'category': 'A318', 'average_speed_mph': 461.0, 'volume': 5.44464, 'payload': 15504.7934}, {'code_iata': '342', 'code_icao': 'A342', 'full_name': 'Airbus A340-200', 'category': 'A340', 'average_speed_mph': 541.0, 'volume': 72.02064, 'payload': 50324.83}, {'code_iata': 'M90', 'code_icao': 'MD90', 'full_name': 'Boeing MD90-30', 'category': 'MD90', 'average_speed_mph': 509.0, 'volume': 10.31472, 'payload': 18758.6051}, {'code_iata': '295', 'code_icao': 'E295', 'full_name': 'Embraer 195 E2', 'category': 'E195-E2', 'average_speed_mph': 541.0, 'volume': 44.5056, 'payload': 15918.07}, {'code_iata': '763', 'code_icao': 'B763', 'full_name': 'Boeing B767-300ER', 'category': 'B767', 'average_speed_mph': 535.0, 'volume': 62.99184, 'payload': 45374.4091}, {'code_iata': 'ARJ', 'code_icao': 'RJ70', 'full_name': 'Avro RJ70 / RJ85 / RJ100', 'category': 'RJ', 'average_speed_mph': 368.0, 'volume': 4.52352, 'payload': 9326.4071}, {'code_iata': '732', 'code_icao': 'B732', 'full_name': 'Boeing B737-200ADV', 'category': 'B737', 'average_speed_mph': 462.0, 'volume': 6.01008, 'payload': 14530.9239}, {'code_iata': '752', 'code_icao': 'B752', 'full_name': 'Boeing B757-200', 'category': 'B757', 'average_speed_mph': 530.0, 'volume': 15.1392, 'payload': 24223.15}, {'code_iata': '762', 'code_icao': 'B762', 'full_name': 'Boeing B767-200ER', 'category': 'B767', 'average_speed_mph': 528.0, 'volume': 43.9584, 'payload': 35272.8612}, {'code_iata': '77L', 'code_icao': 'B77L', 'full_name': 'Boeing B777-200LR', 'category': 'B777', 'average_speed_mph': 562.0, 'volume': 86.2752, 'payload': 63233.2972}, {'code_iata': '734', 'code_icao': 'B734', 'full_name': 'Boeing B737-400', 'category': 'B737', 'average_speed_mph': 462.0, 'volume': 10.97136, 'payload': 19880.7796}, {'code_iata': 'M88', 'code_icao': 'MD88', 'full_name': 'Boeing MD80-88', 'category': 'MD80', 'average_speed_mph': 509.0, 'volume': 9.76752, 'payload': 17989.3965}, {'code_iata': '764', 'code_icao': 'B764', 'full_name': 'Boeing B767-400ER', 'category': 'B767', 'average_speed_mph': 534.0, 'volume': 79.7544, 'payload': 43029.2127}, {'code_iata': '735', 'code_icao': 'B735', 'full_name': 'Boeing B737-500', 'category': 'B737', 'average_speed_mph': 462.0, 'volume': 5.85504, 'payload': 15010.4434}, {'code_iata': '321', 'code_icao': 'A321', 'full_name': 'Airbus A321-200', 'category': 'A321', 'average_speed_mph': 461.0, 'volume': 20.3832, 'payload': 24717.5}, {'code_iata': '340', 'code_icao': 'A340', 'full_name': 'Airbus A340', 'category': 'A340', 'average_speed_mph': 541.0, 'volume': 86.0016, 'payload': 50324.83}, {'code_iata': '717', 'code_icao': 'B712', 'full_name': 'Boeing B717-200', 'category': 'B717', 'average_speed_mph': 400.0, 'volume': 7.31424, 'payload': 14350.9805}, {'code_iata': '330', 'code_icao': 'A330', 'full_name': 'Airbus A330', 'category': 'A330', 'average_speed_mph': 558.0, 'volume': 72.11184, 'payload': 44846.4433}, {'code_iata': 'AB6', 'code_icao': 'A306', 'full_name': 'Airbus A300-600R', 'category': 'A300', 'average_speed_mph': 557.0, 'volume': 56.6808, 'payload': 42415.23}, {'code_iata': '332', 'code_icao': 'A332', 'full_name': 'Airbus A330-200', 'category': 'A330', 'average_speed_mph': 541.0, 'volume': 75.5136, 'payload': 44846.4433}, {'code_iata': '7M9', 'code_icao': 'B39M', 'full_name': 'Boeing B737 MAX 9', 'category': 'B737', 'average_speed_mph': 523.0, 'volume': 13.78032, 'payload': 25624.1379}, {'code_iata': '32Q', 'code_icao': 'A21N', 'full_name': 'Airbus A321-200 neo', 'category': 'A321', 'average_speed_mph': 578.0, 'volume': 20.32848, 'payload': 24717.5}, {'code_iata': '7M8', 'code_icao': 'B38M', 'full_name': 'Boeing B737 MAX 8', 'category': 'B737', 'average_speed_mph': 523.0, 'volume': 10.69776, 'payload': 20646.0334}, {'code_iata': '781', 'code_icao': 'B781', 'full_name': 'Boeing 787-10', 'category': 'Boeing 787-10 Dreamliner', 'average_speed_mph': 570.0, 'volume': 111.4464, 'payload': 63203.6362}, {'code_iata': '32N', 'code_icao': 'A20N', 'full_name': 'Airbus A320-200 neo', 'category': 'A320', 'average_speed_mph': 578.0, 'volume': 14.16336, 'payload': 18785.3}, {'code_iata': '339', 'code_icao': 'A339', 'full_name': 'Airbus A330-900 Neo', 'average_speed_mph': 570.0, 'volume': 89.34864, 'payload': 44491.5}, {'code_iata': '333', 'code_icao': 'A333', 'full_name': 'Airbus A330-300', 'category': 'A330', 'average_speed_mph': 558.0, 'volume': 86.0016, 'payload': 44491.5}, {'code_iata': 'D95', 'code_icao': 'DC95', 'full_name': 'Douglas DC-9-51', 'category': 'DC-9', 'average_speed_mph': 474.0, 'payload': 15169.6241}, {'code_iata': 'F21', 'code_icao': 'F28', 'full_name': 'Fokker F28-1000', 'category': 'F28', 'average_speed_mph': 418.0, 'payload': 8502.82}, {'code_iata': 'DFL', 'code_icao': 'FA20', 'full_name': 'Dassault Falcon', 'category': 'Falcon', 'average_speed_mph': 400.0, 'payload': 14336.15}, {'code_iata': 'IL6', 'code_icao': 'IL62', 'full_name': 'Ilyushin II-62', 'category': 'II-62', 'average_speed_mph': 422.0, 'payload': 22740.1}, {'code_iata': 'ILW', 'code_icao': 'IL86', 'full_name': 'Ilyushin II-86', 'category': 'II-86', 'average_speed_mph': 460.0, 'payload': 41525.4}, {'code_iata': 'FRJ', 'code_icao': 'J328', 'full_name': 'Fairchild-Dornier 328JET', 'category': '328JET', 'average_speed_mph': 510.0, 'payload': 3411.015}, {'code_iata': 'L10', 'code_icao': 'L101', 'full_name': 'Lockheed Martin L-1011 TriStar Passenger', 'category': 'Other', 'average_speed_mph': 554.0, 'payload': 40240.09}, {'code_iata': 'M81', 'code_icao': 'MD81', 'full_name': 'Boeing MD80-81', 'category': 'MD80', 'average_speed_mph': 461.0, 'payload': 17989.3965}, {'code_iata': 'M83', 'code_icao': 'MD83', 'full_name': 'Boeing MD80-83', 'category': 'MD80', 'average_speed_mph': 461.0, 'payload': 18976.1191}, {'code_iata': 'M87', 'code_icao': 'MD87', 'full_name': 'Boeing MD80-87', 'category': 'MD80', 'average_speed_mph': 461.0, 'payload': 17367.5042}, {'code_iata': '74L', 'code_icao': 'N74S', 'full_name': 'Boeing B747-SP', 'category': 'B747', 'average_speed_mph': 501.0, 'payload': 37817.775}, {'code_iata': 'CRV', 'code_icao': 'S210', 'full_name': 'Aerospatiale SE210-Caravelle', 'category': 'SE210', 'average_speed_mph': 370.0, 'payload': 8305.08}, {'code_iata': 'TU3', 'code_icao': 'T134', 'full_name': 'Tupolev Tu-134', 'category': 'Tu-134', 'average_speed_mph': 437.0, 'payload': 8107.34}, {'code_iata': 'TU5', 'code_icao': 'T154', 'full_name': 'Tupolev Tu-154', 'category': 'Tu-154', 'average_speed_mph': 484.0, 'payload': 17796.6}, {'code_iata': 'T20', 'code_icao': 'T204', 'full_name': 'Tupolev Tu-204 / Tu-214', 'category': 'Tu-204 / Tu-214', 'average_speed_mph': 450.0, 'payload': 20762.7}, {'code_iata': 'YK4', 'code_icao': 'YK40', 'full_name': 'Yakovlev Yak-40', 'category': 'Yak-40', 'average_speed_mph': 274.0, 'payload': 4150.5626}, {'code_iata': 'YK2', 'code_icao': 'YK42', 'full_name': 'Yakovlev Yak-42 / Yak-142', 'category': 'Yak-42 / Yak-142', 'average_speed_mph': 408.0, 'payload': 11112.988}, {'code_iata': '74R', 'code_icao': 'B74R', 'full_name': 'Boeing B747-SR', 'category': 'B747', 'average_speed_mph': 501.0, 'payload': 75418.036}, {'code_iata': '783', 'code_icao': 'B783', 'full_name': 'Boeing B787-3', 'category': 'B787', 'average_speed_mph': 570.0, 'payload': 42784.0151}, {'code_iata': 'B15', 'code_icao': 'BA11', 'full_name': 'BAE One-Eleven-500', 'category': 'One-Eleven', 'average_speed_mph': 440.0, 'payload': 11112.988}, {'code_iata': 'SSC', 'code_icao': 'CONC', 'full_name': 'BAE Concorde', 'category': 'Concorde', 'average_speed_mph': 1354.0, 'payload': 13228.806}, {'code_iata': 'D10', 'code_icao': 'DC10', 'full_name': 'Douglas MD10', 'category': 'MD10', 'average_speed_mph': 547.0, 'payload': 45658.166}, {'code_iata': 'D9S', 'code_icao': 'DC9', 'full_name': 'Douglas DC-9-32', 'category': 'DC-9', 'average_speed_mph': 474.0, 'payload': 13519.4838}, {'code_iata': 'D91', 'code_icao': 'DC91', 'full_name': 'Douglas DC-9-10', 'category': 'DC-9', 'average_speed_mph': 474.0, 'payload': 11138.6942}, {'code_iata': 'D92', 'code_icao': 'DC92', 'full_name': 'Douglas DC-9-20', 'category': 'DC-9', 'average_speed_mph': 474.0, 'payload': 11138.6942}, {'code_iata': 'D93', 'code_icao': 'DC93', 'full_name': 'Douglas DC-9-32', 'category': 'DC-9', 'average_speed_mph': 474.0, 'payload': 13519.4838}, {'code_iata': 'D94', 'code_icao': 'DC94', 'full_name': 'Douglas DC-9-40', 'category': 'DC-9', 'average_speed_mph': 474.0, 'payload': 13519.4838}, {'code_iata': '703', 'code_icao': 'B703', 'full_name': 'Boeing B707-320C', 'category': 'B707', 'average_speed_mph': 492.0, 'payload': 33615.8}, {'code_iata': 'B72', 'code_icao': 'B720', 'full_name': 'Boeing 720-020B', 'category': 'B720', 'average_speed_mph': 492.0, 'payload': 18386.8539}, {'code_iata': '721', 'code_icao': 'B721', 'full_name': 'Boeing B727-100', 'category': 'B727', 'average_speed_mph': 498.0, 'payload': 13644.06}, {'code_iata': '722', 'code_icao': 'B722', 'full_name': 'Boeing B727-200', 'category': 'B727', 'average_speed_mph': 498.0, 'payload': 17213.267}, {'code_iata': '741', 'code_icao': 'B741', 'full_name': 'Boeing B747-100', 'category': 'B747', 'average_speed_mph': 501.0, 'payload': 75418.036}, {'code_iata': '742', 'code_icao': 'B742', 'full_name': 'Boeing B747-200', 'category': 'B747', 'average_speed_mph': 501.0, 'payload': 75418.036}, {'code_iata': '743', 'code_icao': 'B743', 'full_name': 'Boeing B747-300', 'category': 'B747', 'average_speed_mph': 501.0, 'payload': 66558.2953}, {'code_iata': 'AB4', 'code_icao': 'A30B', 'full_name': 'Airbus A300-C4', 'category': 'A300', 'average_speed_mph': 518.0, 'payload': 35098.85}, {'code_iata': '350', 'code_icao': 'A350', 'full_name': 'Airbus A350', 'category': 'A350', 'average_speed_mph': 558.0, 'payload': 53389.8}, {'code_iata': 'L1F', 'code_icao': 'L101', 'full_name': 'Lockheed Martin L-1011 TriStar Freighter', 'category': 'L1011', 'average_speed_mph': 522.0, 'payload': 58293.752}, {'code_iata': 'LRJ', 'code_icao': 'LJ35', 'full_name': 'Learjet 25/35', 'category': '25/35', 'average_speed_mph': 480.0, 'payload': 1581.92}, {'code_iata': 'T2F', 'code_icao': 'T204', 'full_name': 'Tupolev Tu-204 Freighter', 'category': 'Tu-204F', 'average_speed_mph': 500.0, 'payload': 12457.62}, {'code_iata': 'WWP', 'code_icao': 'WW24', 'full_name': 'Israel Aerospace Industries 1124 Westwind', 'category': '1124 Westwind', 'average_speed_mph': 420.0, 'payload': 1977.4}, {'code_iata': 'CRF', 'code_icao': 'CRJ1', 'full_name': 'Bombardier CRJ100PF', 'category': 'CRJ100PF', 'average_speed_mph': 420.0, 'payload': 6278.245}, {'code_iata': 'D1X', 'code_icao': 'DC10', 'full_name': 'Douglas D10-10F', 'category': 'D10F', 'average_speed_mph': 547.0, 'payload': 62336.5463}, {'code_iata': 'DC8', 'code_icao': 'DC8', 'full_name': 'Douglas D8-55F', 'category': 'D8', 'average_speed_mph': 435.0, 'payload': 41604.496}]\n"
     ]
    }
   ],
   "source": [
    "\n",
    "#Because the json file is not in a valid form, it does not have:\n",
    "# - Comma to seperate list of key-value pairs (,).\n",
    "# - Enclosed by a pair of square brackets [...].\n",
    "\n",
    "#Loops through each line in the file, considered it as a valid Json object and add each of them into a list\n",
    "\n",
    "airplanes = []\n",
    "with open('D:/Rotate/data/airplane_details.json', 'r') as file:\n",
    "    for line in file:\n",
    "            airplanes.append(json.loads(line))\n",
    "\n",
    "print(airplanes)\n"
   ]
  },
  {
   "cell_type": "code",
   "execution_count": 79,
   "metadata": {},
   "outputs": [],
   "source": [
    "airplanes = pd.DataFrame(airplanes)"
   ]
  },
  {
   "cell_type": "markdown",
   "metadata": {},
   "source": [
    "### 1.2. Acccessing flight_events"
   ]
  },
  {
   "cell_type": "code",
   "execution_count": 80,
   "metadata": {},
   "outputs": [],
   "source": [
    "import pandas as pd\n",
    "import glob\n",
    "\n",
    "# Get a list of all CSV files in a directory\n",
    "csv_files = glob.glob('D:/Rotate/data/flight_events/*.csv')\n",
    "\n",
    "# Create an empty dataframe to store the combined data\n",
    "combined_df = pd.DataFrame()\n",
    "\n",
    "# Loop through each CSV file and append its contents to the combined dataframe\n",
    "for csv_file in csv_files:\n",
    "    df = pd.read_csv(csv_file, sep=\";\")\n",
    "    combined_df = pd.concat([combined_df, df])"
   ]
  },
  {
   "cell_type": "code",
   "execution_count": 81,
   "metadata": {},
   "outputs": [],
   "source": [
    "flight_events = pd.DataFrame(combined_df)"
   ]
  },
  {
   "cell_type": "markdown",
   "metadata": {},
   "source": [
    "## Question 2"
   ]
  },
  {
   "cell_type": "markdown",
   "metadata": {},
   "source": [
    "### 2.1.Checking dataset "
   ]
  },
  {
   "cell_type": "code",
   "execution_count": 82,
   "metadata": {},
   "outputs": [
    {
     "data": {
      "text/plain": [
       "code_iata             object\n",
       "code_icao             object\n",
       "full_name             object\n",
       "category              object\n",
       "average_speed_mph    float64\n",
       "volume               float64\n",
       "payload              float64\n",
       "dtype: object"
      ]
     },
     "execution_count": 82,
     "metadata": {},
     "output_type": "execute_result"
    }
   ],
   "source": [
    "airplanes.dtypes"
   ]
  },
  {
   "cell_type": "code",
   "execution_count": 83,
   "metadata": {},
   "outputs": [
    {
     "data": {
      "text/plain": [
       "address              object\n",
       "altitude              int64\n",
       "callsign             object\n",
       "date                 object\n",
       "destination_iata     object\n",
       "destination_icao     object\n",
       "equipment            object\n",
       "event                object\n",
       "flight               object\n",
       "flight_id             int64\n",
       "latitude            float64\n",
       "longitude           float64\n",
       "operator             object\n",
       "origin_iata          object\n",
       "origin_icao          object\n",
       "registration         object\n",
       "time                 object\n",
       "dtype: object"
      ]
     },
     "execution_count": 83,
     "metadata": {},
     "output_type": "execute_result"
    }
   ],
   "source": [
    "flight_events.dtypes"
   ]
  },
  {
   "cell_type": "code",
   "execution_count": 84,
   "metadata": {},
   "outputs": [
    {
     "data": {
      "text/plain": [
       "(100, 7)"
      ]
     },
     "execution_count": 84,
     "metadata": {},
     "output_type": "execute_result"
    }
   ],
   "source": [
    "airplanes.shape"
   ]
  },
  {
   "cell_type": "code",
   "execution_count": 85,
   "metadata": {},
   "outputs": [
    {
     "data": {
      "text/plain": [
       "(700000, 17)"
      ]
     },
     "execution_count": 85,
     "metadata": {},
     "output_type": "execute_result"
    }
   ],
   "source": [
    "flight_events.shape"
   ]
  },
  {
   "cell_type": "code",
   "execution_count": 86,
   "metadata": {},
   "outputs": [
    {
     "data": {
      "text/plain": [
       "code_iata             0\n",
       "code_icao             0\n",
       "full_name             0\n",
       "category              1\n",
       "average_speed_mph     0\n",
       "volume               43\n",
       "payload               0\n",
       "dtype: int64"
      ]
     },
     "execution_count": 86,
     "metadata": {},
     "output_type": "execute_result"
    }
   ],
   "source": [
    "airplanes.isna().sum()"
   ]
  },
  {
   "cell_type": "code",
   "execution_count": 87,
   "metadata": {},
   "outputs": [
    {
     "data": {
      "text/plain": [
       "address                  0\n",
       "altitude                 0\n",
       "callsign             11077\n",
       "date                     0\n",
       "destination_iata     41700\n",
       "destination_icao     41460\n",
       "equipment             6410\n",
       "event                    0\n",
       "flight              149577\n",
       "flight_id                0\n",
       "latitude                 0\n",
       "longitude                0\n",
       "operator            133095\n",
       "origin_iata          41930\n",
       "origin_icao          40878\n",
       "registration          5248\n",
       "time                     0\n",
       "dtype: int64"
      ]
     },
     "execution_count": 87,
     "metadata": {},
     "output_type": "execute_result"
    }
   ],
   "source": [
    "flight_events.isna().sum()"
   ]
  },
  {
   "cell_type": "markdown",
   "metadata": {},
   "source": [
    "### 2.2. Merging 2 tables "
   ]
  },
  {
   "cell_type": "code",
   "execution_count": 88,
   "metadata": {},
   "outputs": [],
   "source": [
    "capacity = pd.merge(flight_events, airplanes, left_on=\"equipment\", right_on=\"code_icao\", how=\"inner\")"
   ]
  },
  {
   "cell_type": "code",
   "execution_count": 89,
   "metadata": {},
   "outputs": [],
   "source": [
    "#Create routes column from origin_iata and destination iata\n",
    "capacity[\"routes\"]= capacity[\"origin_iata\"] + \"-\" + capacity[\"destination_iata\"]"
   ]
  },
  {
   "cell_type": "code",
   "execution_count": 90,
   "metadata": {},
   "outputs": [],
   "source": [
    "#Because one flight can have multiple events, therefore, we only considered unique values of flights\n",
    "capacity2 = capacity[[\"routes\", \"volume\", \"payload\", \"flight_id\"]].drop_duplicates()"
   ]
  },
  {
   "cell_type": "code",
   "execution_count": 91,
   "metadata": {},
   "outputs": [],
   "source": [
    "final_capacity = (\n",
    "    capacity2.groupby(\"routes\", as_index=True)\n",
    "    .aggregate({\"routes\": \"count\", \"volume\": \"sum\", \"payload\": \"sum\"})\n",
    "    .rename(columns={\n",
    "        \"routes\": \"number_of_flight\",\n",
    "        \"volume\": \"total_volume\",\n",
    "        \"payload\": \"total_weight\"\n",
    "    })\n",
    ").reset_index()"
   ]
  },
  {
   "cell_type": "code",
   "execution_count": 92,
   "metadata": {},
   "outputs": [
    {
     "data": {
      "text/html": [
       "<div>\n",
       "<style scoped>\n",
       "    .dataframe tbody tr th:only-of-type {\n",
       "        vertical-align: middle;\n",
       "    }\n",
       "\n",
       "    .dataframe tbody tr th {\n",
       "        vertical-align: top;\n",
       "    }\n",
       "\n",
       "    .dataframe thead th {\n",
       "        text-align: right;\n",
       "    }\n",
       "</style>\n",
       "<table border=\"1\" class=\"dataframe\">\n",
       "  <thead>\n",
       "    <tr style=\"text-align: right;\">\n",
       "      <th></th>\n",
       "      <th>routes</th>\n",
       "      <th>number_of_flight</th>\n",
       "      <th>total_volume</th>\n",
       "      <th>total_weight</th>\n",
       "    </tr>\n",
       "  </thead>\n",
       "  <tbody>\n",
       "    <tr>\n",
       "      <th>0</th>\n",
       "      <td>AAE-IST</td>\n",
       "      <td>1</td>\n",
       "      <td>14.03568</td>\n",
       "      <td>21078.0953</td>\n",
       "    </tr>\n",
       "    <tr>\n",
       "      <th>1</th>\n",
       "      <td>AAE-MED</td>\n",
       "      <td>1</td>\n",
       "      <td>14.03568</td>\n",
       "      <td>21078.0953</td>\n",
       "    </tr>\n",
       "    <tr>\n",
       "      <th>2</th>\n",
       "      <td>AAL-CPH</td>\n",
       "      <td>1</td>\n",
       "      <td>14.03568</td>\n",
       "      <td>21078.0953</td>\n",
       "    </tr>\n",
       "    <tr>\n",
       "      <th>3</th>\n",
       "      <td>AAN-PEW</td>\n",
       "      <td>2</td>\n",
       "      <td>28.43616</td>\n",
       "      <td>38559.3000</td>\n",
       "    </tr>\n",
       "    <tr>\n",
       "      <th>4</th>\n",
       "      <td>AAP-CGK</td>\n",
       "      <td>7</td>\n",
       "      <td>98.24976</td>\n",
       "      <td>147546.6671</td>\n",
       "    </tr>\n",
       "    <tr>\n",
       "      <th>...</th>\n",
       "      <td>...</td>\n",
       "      <td>...</td>\n",
       "      <td>...</td>\n",
       "      <td>...</td>\n",
       "    </tr>\n",
       "    <tr>\n",
       "      <th>16083</th>\n",
       "      <td>ZYI-NKG</td>\n",
       "      <td>1</td>\n",
       "      <td>8.10768</td>\n",
       "      <td>17302.2500</td>\n",
       "    </tr>\n",
       "    <tr>\n",
       "      <th>16084</th>\n",
       "      <td>ZYI-WNZ</td>\n",
       "      <td>1</td>\n",
       "      <td>14.03568</td>\n",
       "      <td>21078.0953</td>\n",
       "    </tr>\n",
       "    <tr>\n",
       "      <th>16085</th>\n",
       "      <td>ZYI-ZUH</td>\n",
       "      <td>2</td>\n",
       "      <td>28.43616</td>\n",
       "      <td>38559.3000</td>\n",
       "    </tr>\n",
       "    <tr>\n",
       "      <th>16086</th>\n",
       "      <td>ZYL-DAC</td>\n",
       "      <td>1</td>\n",
       "      <td>14.03568</td>\n",
       "      <td>21078.0953</td>\n",
       "    </tr>\n",
       "    <tr>\n",
       "      <th>16087</th>\n",
       "      <td>ZYL-LHR</td>\n",
       "      <td>1</td>\n",
       "      <td>99.19824</td>\n",
       "      <td>51991.7782</td>\n",
       "    </tr>\n",
       "  </tbody>\n",
       "</table>\n",
       "<p>16088 rows × 4 columns</p>\n",
       "</div>"
      ],
      "text/plain": [
       "        routes  number_of_flight  total_volume  total_weight\n",
       "0      AAE-IST                 1      14.03568    21078.0953\n",
       "1      AAE-MED                 1      14.03568    21078.0953\n",
       "2      AAL-CPH                 1      14.03568    21078.0953\n",
       "3      AAN-PEW                 2      28.43616    38559.3000\n",
       "4      AAP-CGK                 7      98.24976   147546.6671\n",
       "...        ...               ...           ...           ...\n",
       "16083  ZYI-NKG                 1       8.10768    17302.2500\n",
       "16084  ZYI-WNZ                 1      14.03568    21078.0953\n",
       "16085  ZYI-ZUH                 2      28.43616    38559.3000\n",
       "16086  ZYL-DAC                 1      14.03568    21078.0953\n",
       "16087  ZYL-LHR                 1      99.19824    51991.7782\n",
       "\n",
       "[16088 rows x 4 columns]"
      ]
     },
     "execution_count": 92,
     "metadata": {},
     "output_type": "execute_result"
    }
   ],
   "source": [
    "final_capacity"
   ]
  },
  {
   "cell_type": "markdown",
   "metadata": {},
   "source": [
    "### 2.3. Investigation on non-matching flights"
   ]
  },
  {
   "cell_type": "markdown",
   "metadata": {},
   "source": [
    "#### Explaination\n",
    "In step 2.2, I observed that only **106,162** flights could be identified for cargo capacity out of a total of **202,407** flights. The discrepancy arises due to the limitations in the data between two tables:\n",
    "\n",
    "- Airplanes Table (DIM Table): This table contains data for **100** airplanes information\n",
    "- Event Flight Table (FACT Table): This table records flight events over a 7-day period (from 03/10/2022 to 09/10/2022) and includes data for **682** airplanes that were used during these flights.\n",
    "\n",
    "=>  There may be airplanes used in the flights that are not present in the airplanes DIM table. These airplanes are missing from the table, resulting in gaps in the cargo capacity data for those flights."
   ]
  },
  {
   "cell_type": "code",
   "execution_count": 93,
   "metadata": {},
   "outputs": [
    {
     "data": {
      "text/plain": [
       "(100, 7)"
      ]
     },
     "execution_count": 93,
     "metadata": {},
     "output_type": "execute_result"
    }
   ],
   "source": [
    "capacity[\"flight_id\"].nunique() #The number of flights can identify cargo capacity\n",
    "flight_events[\"flight_id\"].nunique() #The number of flights we have\n",
    "flight_events[\"equipment\"].nunique() ##The number of airplanes had been used\n",
    "airplanes.shape #The number of airplanes that we have information"
   ]
  },
  {
   "cell_type": "markdown",
   "metadata": {},
   "source": [
    "Solution 1: Flag flights with missing airplane information. These flights could be excluded from final cargo capacity calculations or treated as a special case, where either make an estimation or leave them out if estimations are not reliable."
   ]
  },
  {
   "cell_type": "code",
   "execution_count": 94,
   "metadata": {},
   "outputs": [],
   "source": [
    "missing_airplane_info_flights= flight_events[~flight_events[\"flight_id\"].isin(capacity[\"flight_id\"])]"
   ]
  },
  {
   "cell_type": "markdown",
   "metadata": {},
   "source": [
    "Solution 2: Create a list to identify which airplanes are missing in the DIM table and attempt to match them with other data sources "
   ]
  },
  {
   "cell_type": "code",
   "execution_count": 95,
   "metadata": {},
   "outputs": [],
   "source": [
    "missing_airplane_info = missing_airplane_info_flights[\"equipment\"].drop_duplicates()"
   ]
  },
  {
   "cell_type": "markdown",
   "metadata": {},
   "source": [
    "## Question 3"
   ]
  },
  {
   "cell_type": "markdown",
   "metadata": {},
   "source": [
    "#### Project 1: Dashboard in Looker Studio"
   ]
  },
  {
   "cell_type": "code",
   "execution_count": 96,
   "metadata": {},
   "outputs": [],
   "source": [
    "capacity[\"datetime\"] = capacity[\"date\"] + \" \" + capacity[\"time\"] #create datetime variables "
   ]
  },
  {
   "cell_type": "code",
   "execution_count": 97,
   "metadata": {},
   "outputs": [],
   "source": [
    "capacity[\"datetime\"]= pd.to_datetime(capacity[\"datetime\"]) #Convert to datetime form in pandas\n",
    "capacity[\"date\"]= pd.to_datetime(capacity[\"date\"]) #Convert to datet form in pandas"
   ]
  },
  {
   "cell_type": "code",
   "execution_count": 98,
   "metadata": {},
   "outputs": [],
   "source": [
    "dashboard_data = capacity.loc[capacity.groupby('flight_id')['datetime'].idxmax()] #Select the most current situation of each flight"
   ]
  },
  {
   "cell_type": "code",
   "execution_count": 99,
   "metadata": {},
   "outputs": [],
   "source": [
    "#dashboard_data.to_csv(\"dashboard_data.csv\",index=False)"
   ]
  },
  {
   "cell_type": "markdown",
   "metadata": {},
   "source": [
    "View the dashboard provided in the following link : https://lookerstudio.google.com/reporting/8e425773-ffa4-4bc9-a8b9-3f080b352d82"
   ]
  },
  {
   "cell_type": "markdown",
   "metadata": {},
   "source": [
    "#### Projecr 2: Model to predict number of flights in each route\n"
   ]
  },
  {
   "cell_type": "code",
   "execution_count": 100,
   "metadata": {},
   "outputs": [],
   "source": [
    "#Create a new variable:  day_of_week variable\n",
    "dashboard_data[\"day_of_week\"] = dashboard_data[\"datetime\"].dt.day_of_week"
   ]
  },
  {
   "cell_type": "code",
   "execution_count": 101,
   "metadata": {},
   "outputs": [],
   "source": [
    "#Select informative columns for model \n",
    "df_model = dashboard_data[[\"date\",\"flight_id\",\"routes\", \"day_of_week\",\"equipment\",\"operator\", \"average_speed_mph\", \"payload\", \"volume\"]]"
   ]
  },
  {
   "cell_type": "code",
   "execution_count": 103,
   "metadata": {},
   "outputs": [],
   "source": [
    "#Handle missing values\n",
    "df_model.isna().sum()\n",
    "df_model = df_model.dropna()"
   ]
  },
  {
   "cell_type": "code",
   "execution_count": 106,
   "metadata": {},
   "outputs": [],
   "source": [
    "#Create a dataset for modelling, where each row represents the detailed information for a specific route (departure and arrival airports) on a given day.\n",
    "\n",
    "df_model = (dashboard_data.groupby([\"routes\",\"date\", \"day_of_week\",\"equipment\",\"operator\",\"category\" ,\"average_speed_mph\"])\n",
    "    .aggregate({\"volume\":\"sum\", \"payload\":\"sum\", \"flight_id\":\"count\"})\n",
    "    .rename(columns= {\"flight_id\":\"number_of_flights\"})\n",
    "    ) \n",
    "df_model = pd.DataFrame(df_model.reset_index())"
   ]
  },
  {
   "cell_type": "code",
   "execution_count": 107,
   "metadata": {},
   "outputs": [],
   "source": [
    "X = df_model.drop(columns=[\"date\",\"number_of_flights\" ]) # Drop date as they are not useful for modeling\n",
    "y = df_model[\"number_of_flights\"] "
   ]
  },
  {
   "cell_type": "code",
   "execution_count": 108,
   "metadata": {},
   "outputs": [],
   "source": [
    "import catboost\n",
    "from sklearn.model_selection import train_test_split, GridSearchCV\n",
    "from sklearn.metrics import mean_squared_error\n",
    "import joblib"
   ]
  },
  {
   "cell_type": "code",
   "execution_count": 119,
   "metadata": {},
   "outputs": [],
   "source": [
    "#Train_test split\n",
    "x_train, x_test, y_train, y_test = train_test_split(X, y, test_size=0.2, random_state=13)\n",
    "#Because the dataset is too large to train, I decided to train in a smaller sample"
   ]
  },
  {
   "cell_type": "code",
   "execution_count": 120,
   "metadata": {},
   "outputs": [
    {
     "data": {
      "text/plain": [
       "43307    2\n",
       "70769    1\n",
       "25373    2\n",
       "72526    1\n",
       "63595    1\n",
       "        ..\n",
       "25324    1\n",
       "65689    1\n",
       "87796    1\n",
       "33634    1\n",
       "47280    1\n",
       "Name: number_of_flights, Length: 73500, dtype: int64"
      ]
     },
     "execution_count": 120,
     "metadata": {},
     "output_type": "execute_result"
    }
   ],
   "source": [
    "y_train"
   ]
  },
  {
   "cell_type": "code",
   "execution_count": 121,
   "metadata": {},
   "outputs": [
    {
     "data": {
      "text/html": [
       "<div>\n",
       "<style scoped>\n",
       "    .dataframe tbody tr th:only-of-type {\n",
       "        vertical-align: middle;\n",
       "    }\n",
       "\n",
       "    .dataframe tbody tr th {\n",
       "        vertical-align: top;\n",
       "    }\n",
       "\n",
       "    .dataframe thead th {\n",
       "        text-align: right;\n",
       "    }\n",
       "</style>\n",
       "<table border=\"1\" class=\"dataframe\">\n",
       "  <thead>\n",
       "    <tr style=\"text-align: right;\">\n",
       "      <th></th>\n",
       "      <th>routes</th>\n",
       "      <th>day_of_week</th>\n",
       "      <th>equipment</th>\n",
       "      <th>operator</th>\n",
       "      <th>category</th>\n",
       "      <th>average_speed_mph</th>\n",
       "      <th>volume</th>\n",
       "      <th>payload</th>\n",
       "    </tr>\n",
       "  </thead>\n",
       "  <tbody>\n",
       "    <tr>\n",
       "      <th>43307</th>\n",
       "      <td>JED-CAI</td>\n",
       "      <td>6</td>\n",
       "      <td>A333</td>\n",
       "      <td>SVA</td>\n",
       "      <td>A330</td>\n",
       "      <td>558.0</td>\n",
       "      <td>172.00320</td>\n",
       "      <td>88983.0000</td>\n",
       "    </tr>\n",
       "    <tr>\n",
       "      <th>70769</th>\n",
       "      <td>PVG-BKK</td>\n",
       "      <td>6</td>\n",
       "      <td>B77L</td>\n",
       "      <td>UAE</td>\n",
       "      <td>B777</td>\n",
       "      <td>562.0</td>\n",
       "      <td>86.27520</td>\n",
       "      <td>63233.2972</td>\n",
       "    </tr>\n",
       "    <tr>\n",
       "      <th>25373</th>\n",
       "      <td>DFW-STL</td>\n",
       "      <td>2</td>\n",
       "      <td>B738</td>\n",
       "      <td>AAL</td>\n",
       "      <td>B737</td>\n",
       "      <td>592.0</td>\n",
       "      <td>28.07136</td>\n",
       "      <td>42156.1906</td>\n",
       "    </tr>\n",
       "    <tr>\n",
       "      <th>72526</th>\n",
       "      <td>ROB-BRU</td>\n",
       "      <td>0</td>\n",
       "      <td>A333</td>\n",
       "      <td>BEL</td>\n",
       "      <td>A330</td>\n",
       "      <td>558.0</td>\n",
       "      <td>86.00160</td>\n",
       "      <td>44491.5000</td>\n",
       "    </tr>\n",
       "    <tr>\n",
       "      <th>63595</th>\n",
       "      <td>OGG-SJC</td>\n",
       "      <td>0</td>\n",
       "      <td>B738</td>\n",
       "      <td>ASA</td>\n",
       "      <td>B737</td>\n",
       "      <td>592.0</td>\n",
       "      <td>14.03568</td>\n",
       "      <td>21078.0953</td>\n",
       "    </tr>\n",
       "    <tr>\n",
       "      <th>...</th>\n",
       "      <td>...</td>\n",
       "      <td>...</td>\n",
       "      <td>...</td>\n",
       "      <td>...</td>\n",
       "      <td>...</td>\n",
       "      <td>...</td>\n",
       "      <td>...</td>\n",
       "      <td>...</td>\n",
       "    </tr>\n",
       "    <tr>\n",
       "      <th>25324</th>\n",
       "      <td>DFW-SFO</td>\n",
       "      <td>4</td>\n",
       "      <td>A319</td>\n",
       "      <td>UAL</td>\n",
       "      <td>A319</td>\n",
       "      <td>514.0</td>\n",
       "      <td>8.10768</td>\n",
       "      <td>17302.2500</td>\n",
       "    </tr>\n",
       "    <tr>\n",
       "      <th>65689</th>\n",
       "      <td>ORD-VIE</td>\n",
       "      <td>3</td>\n",
       "      <td>B772</td>\n",
       "      <td>AUA</td>\n",
       "      <td>B777</td>\n",
       "      <td>562.0</td>\n",
       "      <td>86.27520</td>\n",
       "      <td>54299.4040</td>\n",
       "    </tr>\n",
       "    <tr>\n",
       "      <th>87796</th>\n",
       "      <td>WNZ-TYN</td>\n",
       "      <td>3</td>\n",
       "      <td>A320</td>\n",
       "      <td>CCA</td>\n",
       "      <td>A320</td>\n",
       "      <td>521.0</td>\n",
       "      <td>14.21808</td>\n",
       "      <td>19279.6500</td>\n",
       "    </tr>\n",
       "    <tr>\n",
       "      <th>33634</th>\n",
       "      <td>GRU-JFK</td>\n",
       "      <td>0</td>\n",
       "      <td>B772</td>\n",
       "      <td>AAL</td>\n",
       "      <td>B777</td>\n",
       "      <td>562.0</td>\n",
       "      <td>86.27520</td>\n",
       "      <td>54299.4040</td>\n",
       "    </tr>\n",
       "    <tr>\n",
       "      <th>47280</th>\n",
       "      <td>KUF-FRU</td>\n",
       "      <td>3</td>\n",
       "      <td>A320</td>\n",
       "      <td>SVR</td>\n",
       "      <td>A320</td>\n",
       "      <td>521.0</td>\n",
       "      <td>14.21808</td>\n",
       "      <td>19279.6500</td>\n",
       "    </tr>\n",
       "  </tbody>\n",
       "</table>\n",
       "<p>73500 rows × 8 columns</p>\n",
       "</div>"
      ],
      "text/plain": [
       "        routes  day_of_week equipment operator category  average_speed_mph  \\\n",
       "43307  JED-CAI            6      A333      SVA     A330              558.0   \n",
       "70769  PVG-BKK            6      B77L      UAE     B777              562.0   \n",
       "25373  DFW-STL            2      B738      AAL     B737              592.0   \n",
       "72526  ROB-BRU            0      A333      BEL     A330              558.0   \n",
       "63595  OGG-SJC            0      B738      ASA     B737              592.0   \n",
       "...        ...          ...       ...      ...      ...                ...   \n",
       "25324  DFW-SFO            4      A319      UAL     A319              514.0   \n",
       "65689  ORD-VIE            3      B772      AUA     B777              562.0   \n",
       "87796  WNZ-TYN            3      A320      CCA     A320              521.0   \n",
       "33634  GRU-JFK            0      B772      AAL     B777              562.0   \n",
       "47280  KUF-FRU            3      A320      SVR     A320              521.0   \n",
       "\n",
       "          volume     payload  \n",
       "43307  172.00320  88983.0000  \n",
       "70769   86.27520  63233.2972  \n",
       "25373   28.07136  42156.1906  \n",
       "72526   86.00160  44491.5000  \n",
       "63595   14.03568  21078.0953  \n",
       "...          ...         ...  \n",
       "25324    8.10768  17302.2500  \n",
       "65689   86.27520  54299.4040  \n",
       "87796   14.21808  19279.6500  \n",
       "33634   86.27520  54299.4040  \n",
       "47280   14.21808  19279.6500  \n",
       "\n",
       "[73500 rows x 8 columns]"
      ]
     },
     "execution_count": 121,
     "metadata": {},
     "output_type": "execute_result"
    }
   ],
   "source": [
    "x_train"
   ]
  },
  {
   "cell_type": "code",
   "execution_count": 122,
   "metadata": {},
   "outputs": [],
   "source": [
    "# CatBoost model\n",
    "model = catboost.CatBoostRegressor(cat_features=['routes', 'equipment','operator','category'])\n",
    "\n",
    "# Hyperparameter tuning using GridSearchCV\n",
    "param_grid = {\n",
    "    'iterations': [1000],\n",
    "    'learning_rate': [0.1, 0.2, 0.3],\n",
    "    'depth': [2,4, 6, 8],\n",
    "    'l2_leaf_reg': [1, 3, 5]\n",
    "}\n",
    "\n",
    "grid_search = GridSearchCV(estimator=model, param_grid=param_grid, cv=3, scoring='neg_mean_squared_error', n_jobs=-1)"
   ]
  },
  {
   "cell_type": "code",
   "execution_count": null,
   "metadata": {},
   "outputs": [],
   "source": [
    "# Fit the model and tune the hyperparameters\n",
    "grid_search.fit(x_train, y_train)"
   ]
  },
  {
   "cell_type": "code",
   "execution_count": 115,
   "metadata": {},
   "outputs": [],
   "source": [
    "df_tunning_results = pd.DataFrame(grid_search.cv_results_) #Save the result of tunning hyperparameters"
   ]
  },
  {
   "cell_type": "code",
   "execution_count": 116,
   "metadata": {},
   "outputs": [],
   "source": [
    "best_model = grid_search.best_estimator_ #get the best model \n",
    "#joblib.dump(best_model, 'catboost.pkl') #save model for later"
   ]
  },
  {
   "cell_type": "code",
   "execution_count": 46,
   "metadata": {},
   "outputs": [],
   "source": [
    "#best_model =  joblib.load('catboost.pkl') #Load the best model"
   ]
  },
  {
   "cell_type": "code",
   "execution_count": 117,
   "metadata": {},
   "outputs": [
    {
     "name": "stdout",
     "output_type": "stream",
     "text": [
      "0.4905\n"
     ]
    }
   ],
   "source": [
    "#testing the results\n",
    "y_pred = best_model.predict(x_test)\n",
    "y_pred = [int(i) for i in y_pred] #Convert the predicted number of flights to int\n",
    "mse = mean_squared_error(y_test, y_pred)\n",
    "print(mse)"
   ]
  },
  {
   "cell_type": "code",
   "execution_count": 118,
   "metadata": {},
   "outputs": [
    {
     "data": {
      "image/png": "[encoded data removed]",
      "text/plain": [
       "<Figure size 640x480 with 1 Axes>"
      ]
     },
     "metadata": {},
     "output_type": "display_data"
    }
   ],
   "source": [
    "#Check the feature importancce\n",
    "\n",
    "# Convert feature importance to a DataFrame\n",
    "importance_df = pd.DataFrame({\n",
    "    'Feature': x_test.columns,\n",
    "    'Importance': best_model.get_feature_importance()\n",
    "})\n",
    "\n",
    "# Plot feature importance\n",
    "importance_df.sort_values(by=\"Importance\", ascending=False, inplace=True)\n",
    "plt.barh(importance_df['Feature'], importance_df['Importance'])\n",
    "plt.xlabel(\"Importance\")\n",
    "plt.ylabel(\"Feature\")\n",
    "plt.title(\"Feature Importance\")\n",
    "plt.gca().invert_yaxis()  # Reverse the order for a better look\n",
    "plt.show()\n"
   ]
  }
 ],
 "metadata": {
  "kernelspec": {
   "display_name": "env_rotate",
   "language": "python",
   "name": "python3"
  },
  "language_info": {
   "codemirror_mode": {
    "name": "ipython",
    "version": 3
   },
   "file_extension": ".py",
   "mimetype": "text/x-python",
   "name": "python",
   "nbconvert_exporter": "python",
   "pygments_lexer": "ipython3",
   "version": "3.11.9"
  }
 },
 "nbformat": 4,
 "nbformat_minor": 2
}
